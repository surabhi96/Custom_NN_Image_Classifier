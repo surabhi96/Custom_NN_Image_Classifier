{
  "nbformat": 4,
  "nbformat_minor": 0,
  "metadata": {
    "colab": {
      "name": "hw3_final(1).ipynb",
      "provenance": [],
      "collapsed_sections": []
    },
    "kernelspec": {
      "name": "python3",
      "display_name": "Python 3"
    },
    "accelerator": "GPU"
  },
  "cells": [
    {
      "cell_type": "markdown",
      "metadata": {
        "id": "zsG-WJ-52iqN"
      },
      "source": [
        "#CMSC498L HW 3: Image and movie review classification.\n",
        "\n",
        "File imports..."
      ]
    },
    {
      "cell_type": "code",
      "metadata": {
        "id": "02POxVcQymf6"
      },
      "source": [
        "from tqdm import tqdm   #Just to make my loops beautiful.\n",
        "import numpy as np\n",
        "import torch\n",
        "import torch.nn as nn\n",
        "import torch.nn.functional as F\n",
        "import time\n",
        "import matplotlib.pyplot as plt\n",
        "import torchvision\n",
        "from torchvision import datasets, models, transforms\n",
        "import h5py\n",
        "from torchvision import datasets, transforms, models"
      ],
      "execution_count": null,
      "outputs": []
    },
    {
      "cell_type": "markdown",
      "metadata": {
        "id": "jqcuVobS3QAD"
      },
      "source": [
        "## Step 1: Data loading and preroceesing steps"
      ]
    },
    {
      "cell_type": "code",
      "metadata": {
        "id": "_95XG0KsGE01",
        "colab": {
          "base_uri": "https://localhost:8080/",
          "height": 159
        },
        "outputId": "75bd88da-609b-4583-b198-cdf1da34e38c"
      },
      "source": [
        "from google.colab import drive\n",
        "drive.mount('/content/drive/', force_remount=True)\n",
        "# %reload_ext autoreload\n",
        "%matplotlib inline\n",
        "plt.rcParams['figure.figsize'] = (5.0, 4.0) # set default size of plots\n",
        "plt.rcParams['image.interpolation'] = 'nearest'\n",
        "plt.rcParams['image.cmap'] = 'gray'\n",
        "\n",
        "%load_ext autoreload\n",
        "%autoreload 2\n",
        "!ls\n",
        "np.random.seed(1)\n",
        "%cd drive/My\\ Drive\n",
        "# !pwd"
      ],
      "execution_count": null,
      "outputs": [
        {
          "output_type": "stream",
          "text": [
            "Go to this URL in a browser: https://accounts.google.com/o/oauth2/auth?client_id=947318989803-6bn6qk8qdgf4n4g3pfee6491hc0brc4i.apps.googleusercontent.com&redirect_uri=urn%3aietf%3awg%3aoauth%3a2.0%3aoob&response_type=code&scope=email%20https%3a%2f%2fwww.googleapis.com%2fauth%2fdocs.test%20https%3a%2f%2fwww.googleapis.com%2fauth%2fdrive%20https%3a%2f%2fwww.googleapis.com%2fauth%2fdrive.photos.readonly%20https%3a%2f%2fwww.googleapis.com%2fauth%2fpeopleapi.readonly\n",
            "\n",
            "Enter your authorization code:\n",
            "··········\n",
            "Mounted at /content/drive/\n",
            "drive  sample_data\n",
            "/content/drive/My Drive\n"
          ],
          "name": "stdout"
        }
      ]
    },
    {
      "cell_type": "code",
      "metadata": {
        "id": "XlXNbzFkM0As",
        "colab": {
          "base_uri": "https://localhost:8080/",
          "height": 357
        },
        "outputId": "e042bdf3-b306-4df5-8330-cb8006bacb0d"
      },
      "source": [
        "def load_data(train_file, test_file):\n",
        "    # Load the training data\n",
        "    train_dataset = h5py.File(train_file)\n",
        "    # Separate features(x) and labels(y) for training set\n",
        "    # print(list(train_dataset))\n",
        "    train_set_x_orig = train_dataset['train_set_x']\n",
        "    train_set_y_orig = train_dataset['train_set_y']\n",
        "    # print(type(train_set_y_orig))\n",
        "    # Load the test data\n",
        "    test_dataset = h5py.File(test_file)\n",
        "    \n",
        "    # # Separate features(x) and labels(y) for training set\n",
        "    # print(list(test_dataset))\n",
        "    test_set_x_orig = test_dataset['test_set_x']\n",
        "    test_set_y_orig = test_dataset['test_set_y']\n",
        "\n",
        "    classes = np.array(test_dataset[\"list_classes\"][:]) # the list of classes\n",
        "    # print(type(train_set_y_orig))\n",
        "    train_set_y_orig = np.array(train_set_y_orig)\n",
        "    test_set_y_orig = np.array(test_set_y_orig)\n",
        "    # train_set_y_orig = train_set_y_orig.reshape((1, train_set_y_orig.shape[0]))\n",
        "    # test_set_y_orig = test_set_y_orig.reshape((1, test_set_y_orig.shape[0]))\n",
        "    \n",
        "    return train_set_x_orig, train_set_y_orig, test_set_x_orig, test_set_y_orig, classes\n",
        "train_file=\"train_catvnoncat.h5\"\n",
        "test_file=\"test_catvnoncat.h5\"\n",
        "train_x_orig, train_y, test_x_orig, test_y, classes = \\\n",
        "load_data(train_file, test_file)\n",
        "plt.imshow(train_x_orig[0])\n",
        "train_y_dummy=np.reshape(train_y,(-1,1))\n",
        "test_y_dummy=np.reshape(test_y,(-1,1))\n",
        "# print(np.shape(train_y_dummy))"
      ],
      "execution_count": null,
      "outputs": [
        {
          "output_type": "stream",
          "text": [
            "/usr/local/lib/python3.6/dist-packages/ipykernel_launcher.py:3: H5pyDeprecationWarning: The default file mode will change to 'r' (read-only) in h5py 3.0. To suppress this warning, pass the mode you need to h5py.File(), or set the global default h5.get_config().default_file_mode, or set the environment variable H5PY_DEFAULT_READONLY=1. Available modes are: 'r', 'r+', 'w', 'w-'/'x', 'a'. See the docs for details.\n",
            "  This is separate from the ipykernel package so we can avoid doing imports until\n",
            "/usr/local/lib/python3.6/dist-packages/ipykernel_launcher.py:10: H5pyDeprecationWarning: The default file mode will change to 'r' (read-only) in h5py 3.0. To suppress this warning, pass the mode you need to h5py.File(), or set the global default h5.get_config().default_file_mode, or set the environment variable H5PY_DEFAULT_READONLY=1. Available modes are: 'r', 'r+', 'w', 'w-'/'x', 'a'. See the docs for details.\n",
            "  # Remove the CWD from sys.path while we load stuff.\n"
          ],
          "name": "stderr"
        },
        {
          "output_type": "display_data",
          "data": {
            "image/png": "[encoded data removed]",
            "text/plain": [
              "<Figure size 360x288 with 1 Axes>"
            ]
          },
          "metadata": {
            "tags": [],
            "needs_background": "light"
          }
        }
      ]
    },
    {
      "cell_type": "code",
      "metadata": {
        "id": "4cMTtoWfNR2h",
        "colab": {
          "base_uri": "https://localhost:8080/",
          "height": 69
        },
        "outputId": "4c2aa97e-6cf8-41d6-ef06-b03e92e00b56"
      },
      "source": [
        "# Reshape the training and test examples \n",
        "train_x_orig = np.array(train_x_orig)\n",
        "test_x_orig = np.array(test_x_orig)\n",
        "train_x_flatten = train_x_orig.reshape(train_x_orig.shape[0], -1).T   # The \"-1\" makes reshape flatten the remaining dimensions\n",
        "test_x_flatten = test_x_orig.reshape(test_x_orig.shape[0], -1).T\n",
        "\n",
        "# Standardize data to have feature values between 0 and 1.\n",
        "train_x = train_x_flatten/255.\n",
        "test_x = test_x_flatten/255.\n",
        "train_x = torch.Tensor(train_x.T).float()\n",
        "test_x = torch.Tensor(test_x.T).float()\n",
        "test_y = torch.LongTensor(test_y).float()\n",
        "train_y = torch.LongTensor(train_y).float()\n",
        "# validation data?\n",
        "print (\"train_x's shape: \" + str(train_x.shape))\n",
        "print (\"test_x's shape: \" + str(test_x.shape))\n",
        "training_data = train_x\n",
        "training_labels = train_y\n",
        "test_data = test_x\n",
        "test_labels = test_y\n",
        "val_data = test_data \n",
        "val_labels = test_labels\n",
        "print(training_data.shape)"
      ],
      "execution_count": null,
      "outputs": [
        {
          "output_type": "stream",
          "text": [
            "train_x's shape: torch.Size([209, 12288])\n",
            "test_x's shape: torch.Size([50, 12288])\n",
            "torch.Size([209, 12288])\n"
          ],
          "name": "stdout"
        }
      ]
    },
    {
      "cell_type": "markdown",
      "metadata": {
        "id": "1nT9RnE29kZm"
      },
      "source": [
        "#Step 2: Optimizer and loss function definition\n",
        "\n",
        "Model Description: Input -> ReLU -> Hidden Layer -> Sigmoid -> Output layer"
      ]
    },
    {
      "cell_type": "code",
      "metadata": {
        "id": "7cdgcdKu4zNv"
      },
      "source": [
        "class Net(nn.Module):   \n",
        "    def __init__(self, flag, n_x, n_h, n_y):\n",
        "        super(Net, self).__init__()\n",
        "        layer0 = n_x\n",
        "        layer1 = n_h\n",
        "        layer2 = n_y\n",
        "        self.fc1 = nn.Linear(layer0, layer1, bias = True) \n",
        "        self.fc1.bias.data.fill_(0) \n",
        "        self.fc2 = nn.Linear(layer1, layer2, bias = True) \n",
        "        self.fc2.bias.data.fill_(0)\n",
        "        self.dropout1 = nn.Dropout(0.5)\n",
        "        self.dense1_bn = nn.BatchNorm1d(7)\n",
        "\n",
        "        torch.manual_seed(1)\n",
        "\n",
        "        if flag == 1:\n",
        "          nn.init.xavier_uniform_(self.fc1.weight)        \n",
        "          nn.init.xavier_uniform_(self.fc2.weight)\n",
        "          \n",
        "        elif flag == 2:\n",
        "          # nn.init.normal_(self.fc1.weight)\n",
        "          y = 1.0/np.sqrt(layer0)\n",
        "          self.fc1.weight.data.normal_(-y, y)\n",
        "          # nn.init.normal_(self.fc2.weight)\n",
        "          y = 1.0/np.sqrt(layer1)\n",
        "          self.fc2.weight.data.normal_(-y, y)\n",
        "\n",
        "        elif flag ==3:\n",
        "          nn.init.kaiming_normal_(self.fc1.weight,nonlinearity='relu')\n",
        "          nn.init.kaiming_normal_(self.fc2.weight)\n",
        "\n",
        "        elif flag == 4:\n",
        "          nn.init.xavier_normal_(self.fc1.weight)        \n",
        "          nn.init.xavier_normal_(self.fc2.weight)\n",
        "\n",
        "        elif flag == 5:\n",
        "          y = 1.0/layer0*layer1\n",
        "          self.fc1.weight.data.normal_(-y, y)\n",
        "          # nn.init.normal_(self.fc2.weight)\n",
        "          y = 1.0/layer1*layer2\n",
        "          self.fc2.weight.data.normal_(-y, y)\n",
        "        \n",
        "    def forward(self, x):     #This is the forward propagation function which will be called everytime during forward pass\n",
        "        #x is the input that we will give in the network.\n",
        "        x = self.fc1(x) #Passsing the function through the first Fully connected layer\n",
        "        # x = self.dense1_bn(x) # Batch norm\n",
        "        x = torch.relu(x) #Applying the sigmoid activation to the outputof the first fc layer\n",
        "        # x=self.dropout1(x)\n",
        "        x = self.fc2(x)\n",
        "        x = torch.sigmoid(x)\n",
        "        \n",
        "        return x\n"
      ],
      "execution_count": null,
      "outputs": []
    },
    {
      "cell_type": "code",
      "metadata": {
        "id": "O49OyGkhF_E6"
      },
      "source": [
        "def my_model(flag, n_x, n_h, n_y):\n",
        "  global model, loss_function, optim\n",
        "  model = Net(flag, n_x, n_h, n_y)  \n",
        "  loss_function = nn.BCELoss()\n",
        "  optim = torch.optim.SGD(model.parameters(), lr=learning_rate, momentum=momentum, weight_decay=weight_decay)"
      ],
      "execution_count": null,
      "outputs": []
    },
    {
      "cell_type": "markdown",
      "metadata": {
        "id": "Q3KyZdJt3jtf"
      },
      "source": [
        "This function calculates the accuracy of the model, given data and labels"
      ]
    },
    {
      "cell_type": "code",
      "metadata": {
        "id": "8IdClNgvSkHu"
      },
      "source": [
        "def accuracy(test_data, test_labels):\n",
        "  global model, loss_function, optim\n",
        "  model.eval()  #Setting the model to eval mode, hence making it deterministic.\n",
        "\n",
        "  with torch.no_grad():   \n",
        "    \n",
        "    model_output = np.array(model(test_data)).flatten()\n",
        "    test_labels = np.array(test_labels)\n",
        "\n",
        "    classification = np.where(model_output >= 0.5, 1, 0)\n",
        "    correct_class = np.where(classification-test_labels == 0, 1, 0)\n",
        "    return np.mean(correct_class)"
      ],
      "execution_count": null,
      "outputs": []
    },
    {
      "cell_type": "markdown",
      "metadata": {
        "id": "JLRVY3Vg32It"
      },
      "source": [
        "This is where the model is trained "
      ]
    },
    {
      "cell_type": "code",
      "metadata": {
        "id": "s7Q0PhPUC3AX"
      },
      "source": [
        "def model_train(train_data, train_labels, valid_data, valid_labels,\n",
        "                batch_size, learning_rate, momentum, epochs, weight_decay, step_size, gamma, option, milestone):\n",
        "  epoch_loss=[]\n",
        "  epoch_val_loss = []\n",
        "  epoch_accuracy = []\n",
        "  epoch_val_accuracy = []\n",
        "   \n",
        "  scheduler = 0\n",
        "  if option==1:\n",
        "    scheduler = torch.optim.lr_scheduler.CosineAnnealingWarmRestarts(optim, step_size)\n",
        "  elif option==2:\n",
        "    scheduler = torch.optim.lr_scheduler.CosineAnnealingLR(optim, step_size)\n",
        "  elif option==3:\n",
        "    scheduler = torch.optim.lr_scheduler.StepLR(optim, step_size=step_size, gamma=gamma)\n",
        "  elif option==4:\n",
        "    scheduler = torch.optim.lr_scheduler.MultiStepLR(optim, milestone, gamma=gamma)\n",
        " \n",
        "  for epoch in range(epochs):\n",
        "    model.train()  \n",
        "    train_loss = []\n",
        "    if scheduler:\n",
        "        scheduler.step()\n",
        "    model_output = 0\n",
        "    for idx in range(0, train_data.shape[0], batch_size): \n",
        "      \n",
        "      batch_data = train_data[idx : idx+batch_size]  \n",
        "      batch_labels = train_labels[idx : idx+batch_size] \n",
        "      \n",
        "      model_output = model(batch_data)  \n",
        "      loss = loss_function(model_output, batch_labels.view(-1,1)) \n",
        "      train_loss.append(loss.item())\n",
        "\n",
        "      optim.zero_grad()  \n",
        "      loss.backward()    \n",
        "      optim.step()  \n",
        "\n",
        "    epoch_accuracy.append( accuracy(train_data, train_labels) )\n",
        "\n",
        "    #Validation phase\n",
        "    model.eval()  \n",
        "    val_loss = [] # to store the validation loss \n",
        "    \n",
        "    for idx in range(0, valid_data.shape[0], batch_size):\n",
        "\n",
        "      with torch.no_grad():   \n",
        "\n",
        "        batch_data = valid_data[idx : idx+batch_size] \n",
        "        batch_labels = valid_labels[idx:idx+batch_size]\n",
        "        model_output = model(batch_data)\n",
        "        loss = loss_function(model_output, batch_labels.view(-1,1))\n",
        "        val_loss.append(loss.item())\n",
        "    \n",
        "    epoch_val_loss.append(np.mean(val_loss))\n",
        "    epoch_loss.append(np.mean(train_loss))\n",
        "    epoch_val_accuracy.append( accuracy(valid_data, valid_labels) )\n",
        "\n",
        "    if epoch % 100 == 0:\n",
        "      # print('mean = {}, std = {}'.format(model_output.mean(), model_output.std()))\n",
        "      print(\"{}:  Train loss: {}, Val loss: {}, Train acc: {}, Val acc: {}\".format(epoch, round(np.mean(train_loss),2),round(np.mean(val_loss),2),epoch_accuracy[-1],epoch_val_accuracy[-1]))\n",
        "  return epoch_loss,epoch_val_loss,epoch_accuracy,epoch_val_accuracy"
      ],
      "execution_count": null,
      "outputs": []
    },
    {
      "cell_type": "markdown",
      "metadata": {
        "id": "7mqrx9cSBfDu"
      },
      "source": [
        "This function is for data visualization"
      ]
    },
    {
      "cell_type": "code",
      "metadata": {
        "id": "XvoiZBR5AT1N"
      },
      "source": [
        "def display_vals(train_data, train_labels, t_data, t_labels,\n",
        "                 which_weight,epoch_loss,epoch_val_loss,epoch_accuracy,epoch_val_accuracy, learning_rate, momentum, batch_size, epochs, option, step_size, gamma, weight_decay):\n",
        "  global model, loss_function, optim\n",
        "  plt.plot(np.squeeze(epoch_loss), label=\"train loss\")\n",
        "  plt.plot(np.squeeze(epoch_val_loss), label=\"val loss\")\n",
        "  plt.plot(np.squeeze(epoch_accuracy), label=\"train accuracy\")\n",
        "  plt.plot(np.squeeze(epoch_val_accuracy), label=\"val accuracy\")\n",
        "\n",
        "  plt.legend(loc=\"upper right\")\n",
        "  plt.ylabel('loss/accuracy', color='w')\n",
        "  plt.xlabel('epochs', color='w')\n",
        "  plt.title(\"Learning rate = {}, momentum = {}\".format(learning_rate,momentum), color='w')\n",
        "  plt.show()\n",
        "  train_accuracy = accuracy(train_data, train_labels)\n",
        "  test_accuracy = accuracy(t_data, t_labels)\n",
        "  print('train accuracy = {}, test accuracy = {}'.format(train_accuracy,test_accuracy))\n",
        "\n",
        "  print('batch_size = {}'.format(batch_size))\n",
        "  print('epochs = {}'.format(epochs))\n",
        "  print('weight_decay = {}'.format(weight_decay))\n",
        "  print('option = {}, step_size = {}, gamma = {}'.format(option,step_size, gamma))\n",
        "  print('which_weight = {}'.format(which_weight))"
      ],
      "execution_count": null,
      "outputs": []
    },
    {
      "cell_type": "markdown",
      "metadata": {
        "id": "N5qWZuJp4MGF"
      },
      "source": [
        "This is where you do all edits"
      ]
    },
    {
      "cell_type": "code",
      "metadata": {
        "id": "noleg_Kbk5Gv",
        "colab": {
          "base_uri": "https://localhost:8080/",
          "height": 660
        },
        "outputId": "c589652e-1be0-416f-9fb7-61de5447e726"
      },
      "source": [
        "batch_size =30\n",
        "learning_rate = 0.002\n",
        "momentum = 0.7\n",
        "epochs = 1500\n",
        "weight_decay = 0.17 # L2 regularization param\n",
        "# For the lr schedular\n",
        "step_size = 100\n",
        "gamma = 0.01\n",
        "milestone = [300,1500]\n",
        "option = 0 # use 0 or 3 ; 4: period decay\n",
        "which_weight = 4 # 1: xavier uniform, 2: normal sampling sqrt 3: He, 4: xavier normal 5: normal sampling inputs\n",
        "my_model(which_weight, 12288, 7, 1) # n_x, n_h, n_y\n",
        "epoch_loss,epoch_val_loss,epoch_accuracy,epoch_val_accuracy = model_train(training_data, training_labels, val_data, val_labels, batch_size, learning_rate, \n",
        "                                                                          momentum, epochs, weight_decay, step_size, gamma, option, milestone)\n",
        "display_vals(training_data, training_labels, test_data, test_labels,which_weight,epoch_loss,epoch_val_loss,epoch_accuracy,epoch_val_accuracy, learning_rate, \n",
        "             momentum, batch_size, epochs, option, step_size, gamma, weight_decay)"
      ],
      "execution_count": null,
      "outputs": [
        {
          "output_type": "stream",
          "text": [
            "0:  Train loss: 0.68, Val loss: 0.73, Train acc: 0.6889952153110048, Val acc: 0.38\n",
            "100:  Train loss: 0.38, Val loss: 0.53, Train acc: 0.9234449760765551, Val acc: 0.76\n",
            "200:  Train loss: 0.28, Val loss: 0.47, Train acc: 0.9569377990430622, Val acc: 0.82\n",
            "300:  Train loss: 0.25, Val loss: 0.46, Train acc: 0.9665071770334929, Val acc: 0.8\n",
            "400:  Train loss: 0.24, Val loss: 0.46, Train acc: 0.9760765550239234, Val acc: 0.8\n",
            "500:  Train loss: 0.23, Val loss: 0.46, Train acc: 0.9760765550239234, Val acc: 0.8\n",
            "600:  Train loss: 0.23, Val loss: 0.46, Train acc: 0.9760765550239234, Val acc: 0.82\n",
            "700:  Train loss: 0.23, Val loss: 0.47, Train acc: 0.9760765550239234, Val acc: 0.8\n",
            "800:  Train loss: 0.23, Val loss: 0.46, Train acc: 0.9760765550239234, Val acc: 0.8\n",
            "900:  Train loss: 0.23, Val loss: 0.46, Train acc: 0.9760765550239234, Val acc: 0.8\n",
            "1000:  Train loss: 0.23, Val loss: 0.46, Train acc: 0.9808612440191388, Val acc: 0.84\n",
            "1100:  Train loss: 0.23, Val loss: 0.46, Train acc: 0.9808612440191388, Val acc: 0.84\n",
            "1200:  Train loss: 0.23, Val loss: 0.46, Train acc: 0.9760765550239234, Val acc: 0.82\n",
            "1300:  Train loss: 0.22, Val loss: 0.47, Train acc: 0.9760765550239234, Val acc: 0.82\n",
            "1400:  Train loss: 0.23, Val loss: 0.46, Train acc: 0.9760765550239234, Val acc: 0.84\n"
          ],
          "name": "stdout"
        },
        {
          "output_type": "display_data",
          "data": {
            "image/png": "[encoded data removed]",
            "text/plain": [
              "<Figure size 360x288 with 1 Axes>"
            ]
          },
          "metadata": {
            "tags": [],
            "needs_background": "light"
          }
        },
        {
          "output_type": "stream",
          "text": [
            "train accuracy = 0.9808612440191388, test accuracy = 0.84\n",
            "batch_size = 30\n",
            "epochs = 1500\n",
            "weight_decay = 0.17\n",
            "option = 0, step_size = 100, gamma = 0.01\n",
            "which_weight = 4\n"
          ],
          "name": "stdout"
        }
      ]
    },
    {
      "cell_type": "markdown",
      "metadata": {
        "id": "5mXaD6hxFFbd"
      },
      "source": [
        "##Part 2: Movie Review sentiment prediction"
      ]
    },
    {
      "cell_type": "code",
      "metadata": {
        "id": "s-dC-BE1FD9x"
      },
      "source": [
        "def load_data(train_file, test_file):\n",
        "    train_dataset = []\n",
        "    test_dataset = []\n",
        "    \n",
        "    # Read the training dataset file line by line\n",
        "    for line in open(train_file, 'r'):\n",
        "        train_dataset.append(line.strip())\n",
        "        \n",
        "    for line in open(test_file, 'r'):\n",
        "        test_dataset.append(line.strip())\n",
        "    return train_dataset, test_dataset\n",
        "train_file = \"train_imdb.txt\"\n",
        "test_file = \"test_imdb.txt\"\n",
        "train_dataset, test_dataset = load_data(train_file, test_file)\n",
        "# This is just how the data is organized. The first 50% data is positive and the rest 50% is negative for both train and test splits.\n",
        "y = [1 if i < len(train_dataset)*0.5 else 0 for i in range(len(train_dataset))]"
      ],
      "execution_count": null,
      "outputs": []
    },
    {
      "cell_type": "code",
      "metadata": {
        "id": "ldameGr9FgQi",
        "colab": {
          "base_uri": "https://localhost:8080/",
          "height": 434
        },
        "outputId": "c2f06447-a2e3-46d2-b5c3-f64cc3c89611"
      },
      "source": [
        "# Explore your dataset \n",
        "m_train = len(train_dataset)\n",
        "m_test = len(test_dataset)\n",
        "\n",
        "print (\"Number of training examples: \" + str(m_train))\n",
        "print (\"Number of testing examples: \" + str(m_test))"
      ],
      "execution_count": null,
      "outputs": [
        {
          "output_type": "stream",
          "text": [
            "Number of training examples: 1001\n",
            "Number of testing examples: 201\n"
          ],
          "name": "stdout"
        },
        {
          "output_type": "display_data",
          "data": {
            "image/png": "[encoded data removed]",
            "text/plain": [
              "<Figure size 360x288 with 1 Axes>"
            ]
          },
          "metadata": {
            "tags": [],
            "needs_background": "light"
          }
        },
        {
          "output_type": "stream",
          "text": [
            "train accuracy = 0.9808612440191388, test accuracy = 0.84\n",
            "batch_size = 30\n",
            "epochs = 1500\n",
            "weight_decay = 0.17\n",
            "option = 0, step_size = 100, gamma = 0.01\n",
            "which_weight = 4\n"
          ],
          "name": "stdout"
        }
      ]
    },
    {
      "cell_type": "markdown",
      "metadata": {
        "id": "zg_uWNp1FiVT"
      },
      "source": [
        "Pre-Processing"
      ]
    },
    {
      "cell_type": "code",
      "metadata": {
        "id": "oYe6U8s_FlpJ"
      },
      "source": [
        "import re\n",
        "REPLACE_NO_SPACE = re.compile(\"(\\.)|(\\;)|(\\:)|(\\!)|(\\')|(\\?)|(\\,)|(\\\")|(\\()|(\\))|(\\[)|(\\])|(\\d+)\")\n",
        "REPLACE_WITH_SPACE = re.compile(\"(<br\\s*/><br\\s*/>)|(\\-)|(\\/)\")\n",
        "NO_SPACE = \"\"\n",
        "SPACE = \" \"\n",
        "\n",
        "def preprocess_reviews(reviews):\n",
        "    \n",
        "    reviews = [REPLACE_NO_SPACE.sub(NO_SPACE, line.lower()) for line in reviews]\n",
        "    reviews = [REPLACE_WITH_SPACE.sub(SPACE, line) for line in reviews]\n",
        "    \n",
        "    return reviews\n",
        "\n",
        "train_dataset_clean = preprocess_reviews(train_dataset)\n",
        "test_dataset_clean = preprocess_reviews(test_dataset)"
      ],
      "execution_count": null,
      "outputs": []
    },
    {
      "cell_type": "markdown",
      "metadata": {
        "id": "33vrFaoyFqnn"
      },
      "source": [
        "Vectorization"
      ]
    },
    {
      "cell_type": "code",
      "metadata": {
        "id": "EZHa_Ip5FqW6"
      },
      "source": [
        "from sklearn.feature_extraction.text import CountVectorizer\n",
        "\n",
        "cv = CountVectorizer(binary=True, stop_words=\"english\", max_features=2000)\n",
        "cv.fit(train_dataset_clean)\n",
        "X = cv.transform(train_dataset_clean)\n",
        "X_test = cv.transform(test_dataset_clean)\n",
        "X = np.array(X.todense()).astype(float)\n",
        "X_test = np.array(X_test.todense()).astype(float)\n",
        "y = np.array(y)"
      ],
      "execution_count": null,
      "outputs": []
    },
    {
      "cell_type": "markdown",
      "metadata": {
        "id": "23zOEQlLGPUh"
      },
      "source": [
        "Model"
      ]
    },
    {
      "cell_type": "code",
      "metadata": {
        "id": "vqomn1ntGM6N",
        "colab": {
          "base_uri": "https://localhost:8080/",
          "height": 278
        },
        "outputId": "2a5aa117-2224-4984-b23a-6568e3db00ec"
      },
      "source": [
        "from sklearn.metrics import accuracy_score\n",
        "from sklearn.model_selection import train_test_split\n",
        "\n",
        "X_train, X_val, y_train, y_val = train_test_split(\n",
        "    X, y, train_size = 0.80\n",
        ")\n",
        "# This is just to correct the shape of the arrays as required by the two_layer_model\n",
        "X_train = torch.Tensor(X_train).float()\n",
        "X_val = torch.Tensor(X_val).float()\n",
        "y_train = torch.LongTensor(y_train).float()\n",
        "y_val = torch.LongTensor(y_val).float()\n",
        "### CONSTANTS DEFINING THE MODEL ####\n",
        "\n",
        "n_x = X_train.shape[1]\n",
        "n_h = 200\n",
        "n_y = 1\n",
        "my_model(which_weight, n_x, n_h, n_y) \n",
        "epoch_loss,epoch_val_loss,epoch_accuracy,epoch_val_accuracy = model_train(X_train, y_train, X_val, y_val, batch_size, learning_rate, momentum, \n",
        "                                                                          epochs, weight_decay, step_size, gamma, option, milestone)\n",
        "# display_vals(X_train, y_train, X_val, y_val, which_weight,epoch_loss,epoch_val_loss,epoch_accuracy,epoch_val_accuracy, learning_rate, \n",
        "#              momentum, batch_size, epochs, option, step_size, gamma, weight_decay)"
      ],
      "execution_count": null,
      "outputs": [
        {
          "output_type": "stream",
          "text": [
            "0:  Train loss: 0.71, Val loss: 0.69, Train acc: 0.4525, Val acc: 0.5174129353233831\n",
            "100:  Train loss: 0.6, Val loss: 0.61, Train acc: 0.915, Val acc: 0.8706467661691543\n",
            "200:  Train loss: 0.57, Val loss: 0.59, Train acc: 0.9225, Val acc: 0.8756218905472637\n",
            "300:  Train loss: 0.56, Val loss: 0.59, Train acc: 0.92375, Val acc: 0.8756218905472637\n",
            "400:  Train loss: 0.56, Val loss: 0.58, Train acc: 0.925, Val acc: 0.8805970149253731\n",
            "500:  Train loss: 0.56, Val loss: 0.58, Train acc: 0.92625, Val acc: 0.8805970149253731\n",
            "600:  Train loss: 0.56, Val loss: 0.58, Train acc: 0.92625, Val acc: 0.8805970149253731\n",
            "700:  Train loss: 0.56, Val loss: 0.58, Train acc: 0.92625, Val acc: 0.8805970149253731\n",
            "800:  Train loss: 0.56, Val loss: 0.58, Train acc: 0.92625, Val acc: 0.8805970149253731\n",
            "900:  Train loss: 0.56, Val loss: 0.58, Train acc: 0.92625, Val acc: 0.8805970149253731\n",
            "1000:  Train loss: 0.56, Val loss: 0.58, Train acc: 0.92625, Val acc: 0.8805970149253731\n",
            "1100:  Train loss: 0.56, Val loss: 0.58, Train acc: 0.92625, Val acc: 0.8805970149253731\n",
            "1200:  Train loss: 0.56, Val loss: 0.58, Train acc: 0.92625, Val acc: 0.8805970149253731\n",
            "1300:  Train loss: 0.56, Val loss: 0.58, Train acc: 0.92625, Val acc: 0.8805970149253731\n",
            "1400:  Train loss: 0.56, Val loss: 0.58, Train acc: 0.92625, Val acc: 0.8805970149253731\n"
          ],
          "name": "stdout"
        }
      ]
    },
    {
      "cell_type": "code",
      "metadata": {
        "id": "PN-b5pRlcySu",
        "colab": {
          "base_uri": "https://localhost:8080/",
          "height": 399
        },
        "outputId": "fe3d6aeb-582a-4d80-b09c-73e996d4775d"
      },
      "source": [
        "# display_vals(X_train, y_train, X_val, y_val, which_weight,epoch_loss,epoch_val_loss,epoch_accuracy,epoch_val_accuracy, learning_rate, \n",
        "#              momentum, batch_size, epochs, option, step_size, gamma, weight_decay)\n",
        "plt.plot(np.squeeze(epoch_loss), label=\"train loss\")\n",
        "plt.plot(np.squeeze(epoch_val_loss), label=\"val loss\")\n",
        "plt.plot(np.squeeze(epoch_accuracy), label=\"train accuracy\")\n",
        "plt.plot(np.squeeze(epoch_val_accuracy), label=\"val accuracy\")\n",
        "\n",
        "plt.legend(loc=\"upper right\")\n",
        "plt.ylabel('loss/accuracy', color='w')\n",
        "plt.xlabel('epochs', color='w')\n",
        "plt.title(\"Learning rate = {}, momentum = {}\".format(learning_rate,momentum), color='w')\n",
        "plt.show()\n",
        "train_accuracy = accuracy(X_train, y_train)\n",
        "test_accuracy = accuracy(X_val, y_val)\n",
        "print('train accuracy = {}, test accuracy = {}'.format(train_accuracy,test_accuracy))\n",
        "\n",
        "print('batch_size = {}'.format(batch_size))\n",
        "print('epochs = {}'.format(epochs))\n",
        "print('weight_decay = {}'.format(weight_decay))\n",
        "print('option = {}, step_size = {}, gamma = {}'.format(option,step_size, gamma))\n",
        "print('which_weight = {}'.format(which_weight))"
      ],
      "execution_count": null,
      "outputs": [
        {
          "output_type": "display_data",
          "data": {
            "image/png": "[encoded data removed]",
            "text/plain": [
              "<Figure size 360x288 with 1 Axes>"
            ]
          },
          "metadata": {
            "tags": [],
            "needs_background": "light"
          }
        },
        {
          "output_type": "stream",
          "text": [
            "train accuracy = 0.92625, test accuracy = 0.8805970149253731\n",
            "batch_size = 30\n",
            "epochs = 1500\n",
            "weight_decay = 0.17\n",
            "option = 0, step_size = 100, gamma = 0.01\n",
            "which_weight = 4\n"
          ],
          "name": "stdout"
        }
      ]
    }
  ]
}